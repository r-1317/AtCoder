{
 "cells": [
  {
   "cell_type": "code",
   "execution_count": null,
   "metadata": {},
   "outputs": [],
   "source": [
    "int(input())\n",
    "map(int, input().split())\n",
    "list(map(int, input().split()))\n",
    "[int(input()) for _ in range(NNN)]\n",
    "[list(map(int, input().split())) for _ in range(HHH)]\n",
    "\n",
    "(input())\n",
    "input().split()\n",
    "list(input().split())\n",
    "[(input()) for _ in range(NNN)]\n",
    "[list(input().split()) for _ in range(HHH)]"
   ]
  },
  {
   "cell_type": "code",
   "execution_count": null,
   "metadata": {},
   "outputs": [],
   "source": [
    "# 1次元配列のコピー\n",
    "B = A[:]\n",
    "\n",
    "# 2次元配列のコピー\n",
    "B=[a[:] for a in A]"
   ]
  },
  {
   "cell_type": "code",
   "execution_count": null,
   "metadata": {},
   "outputs": [],
   "source": [
    "def str2list(s):\n",
    "  list_s = [\"\"]*len(s)\n",
    "  for i in range(len(s)):\n",
    "    list_s[i] = s[i]\n",
    "\n",
    "  return list_s"
   ]
  },
  {
   "cell_type": "code",
   "execution_count": null,
   "metadata": {},
   "outputs": [],
   "source": [
    "print(\"Yes\" if 条件式 else \"No\")"
   ]
  },
  {
   "cell_type": "code",
   "execution_count": null,
   "metadata": {},
   "outputs": [],
   "source": [
    "[[0]*WWW for _ in range(HHH)]"
   ]
  },
  {
   "cell_type": "code",
   "execution_count": null,
   "metadata": {},
   "outputs": [],
   "source": [
    "x - x//2"
   ]
  },
  {
   "cell_type": "code",
   "execution_count": 1,
   "metadata": {},
   "outputs": [
    {
     "data": {
      "text/plain": [
       "0"
      ]
     },
     "execution_count": 1,
     "metadata": {},
     "output_type": "execute_result"
    }
   ],
   "source": [
    "ord(\"a\") - 97\n",
    "ord(\"z\") - 122\n",
    "\n",
    "ord(\"A\") - 65\n",
    "ord(\"Z\") - 90"
   ]
  },
  {
   "cell_type": "code",
   "execution_count": 3,
   "metadata": {},
   "outputs": [
    {
     "name": "stderr",
     "output_type": "stream",
     "text": [
      "ic| 2**(score/400): 6.680703355426956\n",
      "ic| 2**(score/400): 1.5422108254079407\n",
      "ic| 2**(score/400): 2.505328877248256\n",
      "ic| 2**(score/400): 12.928652394870142\n",
      "ic| 2**(score/400): 5.250664444695029\n"
     ]
    },
    {
     "name": "stdout",
     "output_type": "stream",
     "text": [
      "28907.559897648323\n"
     ]
    }
   ],
   "source": [
    "%reset -f\n",
    "from icecream import ic\n",
    "\n",
    "score_list = [324, 646, 426, 686, 506, 662]\n",
    "score_list = [1096, 250, 530, 1477, 957]\n",
    "\n",
    "if 6 < len(score_list):\n",
    "  score_list.sort(reverse=True)  # 降順でソート\n",
    "  score_list = score_list[:6]\n",
    "\n",
    "ajl_score = 0\n",
    "\n",
    "for score in score_list:\n",
    "  ajl_score += 2**(score/400)\n",
    "  ic(2**(score/400))\n",
    "\n",
    "print(ajl_score*1000)\n"
   ]
  },
  {
   "cell_type": "code",
   "execution_count": 7,
   "metadata": {},
   "outputs": [
    {
     "name": "stderr",
     "output_type": "stream",
     "text": [
      "ic| i: 1, x: 0\n",
      "ic| i: 2, x: 0\n",
      "ic| i: 3, x: 0\n",
      "ic| i: 4, x: 1\n",
      "ic| i: 5, x: 1\n",
      "ic| i: 6, x: 1\n",
      "ic| i: 7, x: 2\n",
      "ic| i: 8, x: 2\n",
      "ic| i: 9, x: 2\n",
      "ic| i: 10, x: 3\n",
      "ic| i: 11, x: 3\n",
      "ic| i: 12, x: 3\n",
      "ic| i: 13, x: 4\n",
      "ic| i: 14, x: 4\n",
      "ic| i: 15, x: 4\n",
      "ic| i: 16, x: 5\n",
      "ic| i: 17, x: 5\n",
      "ic| i: 18, x: 5\n",
      "ic| i: 19, x: 6\n",
      "ic| i: 20, x: 6\n",
      "ic| i: 21, x: 6\n",
      "ic| i: 22, x: 7\n",
      "ic| i: 23, x: 7\n",
      "ic| i: 24, x: 7\n",
      "ic| i: 25, x: 8\n",
      "ic| i: 26, x: 8\n",
      "ic| i: 27, x: 8\n",
      "ic| i: 28, x: 9\n",
      "ic| i: 29, x: 9\n"
     ]
    }
   ],
   "source": [
    "%reset -f\n",
    "from icecream import ic\n",
    "\n",
    "arr = [3, 4, 1, 2, 5]\n",
    "\n",
    "max = 29\n",
    "min = 1\n",
    "count = 10  \n",
    "\n",
    "for i in range(min, max+1):\n",
    "  x = (i - min) * count // (max - min + 1)\n",
    "  ic(i,x)\n",
    "\n"
   ]
  }
 ],
 "metadata": {
  "kernelspec": {
   "display_name": ".venv",
   "language": "python",
   "name": "python3"
  },
  "language_info": {
   "codemirror_mode": {
    "name": "ipython",
    "version": 3
   },
   "file_extension": ".py",
   "mimetype": "text/x-python",
   "name": "python",
   "nbconvert_exporter": "python",
   "pygments_lexer": "ipython3",
   "version": "3.10.12"
  }
 },
 "nbformat": 4,
 "nbformat_minor": 2
}
