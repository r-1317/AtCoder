{
 "cells": [
  {
   "cell_type": "code",
   "execution_count": null,
   "metadata": {},
   "outputs": [],
   "source": [
    "int(input())\n",
    "map(int, input().split())\n",
    "list(map(int, input().split()))\n",
    "[int(input()) for _ in range(NNN)]\n",
    "[list(map(int, input().split())) for _ in range(HHH)]\n",
    "\n",
    "(input())\n",
    "input().split()\n",
    "list(input().split())\n",
    "[(input()) for _ in range(NNN)]\n",
    "[list(input().split()) for _ in range(HHH)]"
   ]
  },
  {
   "cell_type": "code",
   "execution_count": null,
   "metadata": {},
   "outputs": [],
   "source": [
    "# 1次元配列のコピー\n",
    "B = A[:]\n",
    "\n",
    "# 2次元配列のコピー\n",
    "B=[a[:] for a in A]"
   ]
  },
  {
   "cell_type": "code",
   "execution_count": null,
   "metadata": {},
   "outputs": [],
   "source": [
    "def str2list(s):\n",
    "  list_s = [\"\"]*len(s)\n",
    "  for i in range(len(s)):\n",
    "    list_s[i] = s[i]\n",
    "\n",
    "  return list_s"
   ]
  },
  {
   "cell_type": "code",
   "execution_count": null,
   "metadata": {},
   "outputs": [],
   "source": [
    "print(\"Yes\" if 条件式 else \"No\")"
   ]
  },
  {
   "cell_type": "code",
   "execution_count": null,
   "metadata": {},
   "outputs": [],
   "source": [
    "[[0]*WWW for _ in range(HHH)]"
   ]
  },
  {
   "cell_type": "code",
   "execution_count": null,
   "metadata": {},
   "outputs": [],
   "source": [
    "x - x//2"
   ]
  },
  {
   "cell_type": "code",
   "execution_count": 1,
   "metadata": {},
   "outputs": [
    {
     "data": {
      "text/plain": [
       "0"
      ]
     },
     "execution_count": 1,
     "metadata": {},
     "output_type": "execute_result"
    }
   ],
   "source": [
    "ord(\"a\") - 97\n",
    "ord(\"z\") - 122\n",
    "\n",
    "ord(\"A\") - 65\n",
    "ord(\"Z\") - 90"
   ]
  },
  {
   "cell_type": "code",
   "execution_count": 6,
   "metadata": {},
   "outputs": [
    {
     "name": "stderr",
     "output_type": "stream",
     "text": [
      "ic| 2**(score/400): 12.928652394870142\n",
      "ic| 2**(score/400): 5.250664444695029\n"
     ]
    },
    {
     "name": "stdout",
     "output_type": "stream",
     "text": [
      "18179.31683956517\n"
     ]
    }
   ],
   "source": [
    "%reset -f\n",
    "from icecream import ic\n",
    "\n",
    "score_list = [324, 646, 426, 686, 506, 662, 655]\n",
    "# score_list = [1477, 957]\n",
    "\n",
    "if 6 < len(score_list):\n",
    "  score_list.sort(reverse=True)  # 降順でソート\n",
    "  score_list = score_list[:6]\n",
    "\n",
    "ajl_score = 0\n",
    "\n",
    "for score in score_list:\n",
    "  ajl_score += 2**(score/400)\n",
    "  ic(2**(score/400))\n",
    "\n",
    "print(ajl_score*1000)"
   ]
  },
  {
   "cell_type": "code",
   "execution_count": 5,
   "metadata": {},
   "outputs": [
    {
     "name": "stdout",
     "output_type": "stream",
     "text": [
      "90\n"
     ]
    }
   ],
   "source": [
    "%reset -f\n",
    "from icecream import ic\n",
    "\n",
    "arr = [3, 4, 1, 2, 5]\n",
    "\n",
    "print(ord(\"Z\"))"
   ]
  }
 ],
 "metadata": {
  "kernelspec": {
   "display_name": ".venv",
   "language": "python",
   "name": "python3"
  },
  "language_info": {
   "codemirror_mode": {
    "name": "ipython",
    "version": 3
   },
   "file_extension": ".py",
   "mimetype": "text/x-python",
   "name": "python",
   "nbconvert_exporter": "python",
   "pygments_lexer": "ipython3",
   "version": "3.11.4"
  }
 },
 "nbformat": 4,
 "nbformat_minor": 2
}
