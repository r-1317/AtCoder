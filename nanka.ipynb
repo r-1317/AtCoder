{
 "cells": [
  {
   "cell_type": "code",
   "execution_count": null,
   "metadata": {},
   "outputs": [],
   "source": [
    "int(input())\n",
    "map(int, input().split())\n",
    "list(map(int, input().split()))\n",
    "[int(input()) for _ in range(NNN)]\n",
    "[list(map(int, input().split())) for _ in range(HHH)]\n",
    "\n",
    "(input())\n",
    "input().split()\n",
    "list(input().split())\n",
    "[(input()) for _ in range(NNN)]\n",
    "[list(input().split()) for _ in range(HHH)]"
   ]
  },
  {
   "cell_type": "code",
   "execution_count": null,
   "metadata": {},
   "outputs": [],
   "source": [
    "# 1次元配列のコピー\n",
    "B = A[:]\n",
    "\n",
    "# 2次元配列のコピー\n",
    "B=[a[:] for a in A]"
   ]
  },
  {
   "cell_type": "code",
   "execution_count": 19,
   "metadata": {},
   "outputs": [
    {
     "data": {
      "text/plain": [
       "[('a', 'b'), ('a', 'c'), ('b', 'a'), ('b', 'c'), ('c', 'a'), ('c', 'b')]"
      ]
     },
     "execution_count": 19,
     "metadata": {},
     "output_type": "execute_result"
    }
   ],
   "source": [
    "import itertools\n",
    "\n",
    "list(itertools.permutations(\"abc\",2))"
   ]
  },
  {
   "cell_type": "code",
   "execution_count": null,
   "metadata": {},
   "outputs": [],
   "source": [
    "print(\"Yes\" if 条件式 else \"No\")"
   ]
  },
  {
   "cell_type": "code",
   "execution_count": null,
   "metadata": {},
   "outputs": [],
   "source": [
    "[[0]*WWW for _ in range(HHH)]"
   ]
  },
  {
   "cell_type": "code",
   "execution_count": null,
   "metadata": {},
   "outputs": [],
   "source": [
    "x - x//2"
   ]
  },
  {
   "cell_type": "code",
   "execution_count": 1,
   "metadata": {},
   "outputs": [
    {
     "data": {
      "text/plain": [
       "0"
      ]
     },
     "execution_count": 1,
     "metadata": {},
     "output_type": "execute_result"
    }
   ],
   "source": [
    "ord(\"a\") == 97\n",
    "ord(\"z\") == 122\n",
    "\n",
    "ord(\"A\") == 65\n",
    "ord(\"Z\") == 90"
   ]
  },
  {
   "cell_type": "code",
   "execution_count": 2,
   "metadata": {},
   "outputs": [
    {
     "name": "stdout",
     "output_type": "stream",
     "text": [
      "3\n",
      "4\n",
      "4\n",
      "0\n"
     ]
    }
   ],
   "source": [
    "import bisect\n",
    "\n",
    "#      0  1  2  3  4   5   6\n",
    "arr = [1, 2, 4, 6, 9, 11, 15]\n",
    "\n",
    "print(bisect.bisect_left(arr, 6))  # 3\n",
    "print(bisect.bisect_right(arr, 6))  # 4\n",
    "print(bisect.bisect(arr, 6))  # 4\n"
   ]
  },
  {
   "cell_type": "code",
   "execution_count": 5,
   "metadata": {},
   "outputs": [
    {
     "name": "stdout",
     "output_type": "stream",
     "text": [
      "3\n",
      "6\n",
      "6\n"
     ]
    }
   ],
   "source": [
    "import bisect\n",
    "\n",
    "arr = [1, 1, 2, 5, 5, 5, 8]\n",
    "\n",
    "print(bisect.bisect_left(arr, 5))  # 3\n",
    "print(bisect.bisect_right(arr, 5))  # 6\n",
    "print(bisect.bisect(arr, 5))  # 6"
   ]
  },
  {
   "cell_type": "code",
   "execution_count": 13,
   "metadata": {},
   "outputs": [
    {
     "name": "stdout",
     "output_type": "stream",
     "text": [
      "rating: 1543.3035389430693\n"
     ]
    }
   ],
   "source": [
    "%reset -f\n",
    "\n",
    "# Description: Calculate AHC rating ver.2\n",
    "# Usage: python calc_rating.py <user_name>\n",
    "# Requires: requests\n",
    "# ref) https://img.atcoder.jp/file/AHC_rating_v2.pdf\n",
    "\n",
    "# import argparse\n",
    "import math\n",
    "from datetime import date, datetime\n",
    "import requests\n",
    "\n",
    "\n",
    "def download_json(user_name: str):\n",
    "    url = f\"https://atcoder.jp/users/{user_name}/history/json?contestType=heuristic\"\n",
    "    response = requests.get(url)\n",
    "    response.raise_for_status()\n",
    "\n",
    "    return response.json()\n",
    "\n",
    "\n",
    "def calc_rating(json: list):\n",
    "    Q = []\n",
    "    S = 724.4744301\n",
    "    R = 0.8271973364\n",
    "\n",
    "    for result in json:\n",
    "        if not result[\"IsRated\"]:\n",
    "            continue\n",
    "\n",
    "        end_date = datetime.fromisoformat(result[\"EndTime\"]).date()\n",
    "        days = (date.today() - end_date).days\n",
    "        performance = result[\"Performance\"] + 150 - 100 * days / 365\n",
    "        weight = 1\n",
    "\n",
    "        for i in range(100):\n",
    "            Q.append((performance - S * math.log(i + 1), weight))\n",
    "\n",
    "    if len(Q) == 0:\n",
    "        return 0\n",
    "\n",
    "    Q.sort(reverse=True)\n",
    "    si = 0\n",
    "    rating = 0\n",
    "\n",
    "    for q, weight in Q:\n",
    "        rating += q * (math.pow(R, si) - math.pow(R, si + weight))\n",
    "        si += weight\n",
    "\n",
    "    rating = 400 / (math.exp((400 - rating) / 400)) if rating < 400 else rating\n",
    "\n",
    "    return rating\n",
    "\n",
    "\n",
    "if __name__ == \"__main__\":\n",
    "    # parser = argparse.ArgumentParser()\n",
    "    # parser.add_argument(\"user_name\", type=str, help=\"AtCoder user name\")\n",
    "    # args = parser.parse_args()\n",
    "    # user_name = \"r1317\"\n",
    "    user_name = input()\n",
    "    json = download_json(user_name)\n",
    "    rating = calc_rating(json)\n",
    "    print(f\"rating: {rating}\")\n"
   ]
  },
  {
   "cell_type": "code",
   "execution_count": null,
   "metadata": {},
   "outputs": [
    {
     "name": "stderr",
     "output_type": "stream",
     "text": [
      "ic| sum(t_list): 500000\n"
     ]
    },
    {
     "name": "stdout",
     "output_type": "stream",
     "text": [
      "100 500000\n",
      "9950 9850 9750 9650 9550 9450 9350 9250 9150 9050 8950 8850 8750 8650 8550 8450 8350 8250 8150 8050 7950 7850 7750 7650 7550 7450 7350 7250 7150 7050 6950 6850 6750 6650 6550 6450 6350 6250 6150 6050 5950 5850 5750 5650 5550 5450 5350 5250 5150 5050 4950 4850 4750 4650 4550 4450 4350 4250 4150 4050 3950 3850 3750 3650 3550 3450 3350 3250 3150 3050 2950 2850 2750 2650 2550 2450 2350 2250 2150 2050 1950 1850 1750 1650 1550 1450 1350 1250 1150 1050 950 850 750 650 550 450 350 250 150 50\n",
      "\n"
     ]
    },
    {
     "data": {
      "text/plain": [
       "500000"
      ]
     },
     "execution_count": 12,
     "metadata": {},
     "output_type": "execute_result"
    }
   ],
   "source": [
    "from icecream import ic\n",
    "\n",
    "t_list = [0]*100\n",
    "\n",
    "for i in range(100):\n",
    "  t_list[i] = 100*(i)+50\n",
    "\n",
    "t_list.reverse()\n",
    "\n",
    "print(100, 500000)\n",
    "print(*t_list)\n",
    "print()\n",
    "# ic(sum(t_list))"
   ]
  }
 ],
 "metadata": {
  "kernelspec": {
   "display_name": ".venv",
   "language": "python",
   "name": "python3"
  },
  "language_info": {
   "codemirror_mode": {
    "name": "ipython",
    "version": 3
   },
   "file_extension": ".py",
   "mimetype": "text/x-python",
   "name": "python",
   "nbconvert_exporter": "python",
   "pygments_lexer": "ipython3",
   "version": "3.10.12"
  }
 },
 "nbformat": 4,
 "nbformat_minor": 2
}
