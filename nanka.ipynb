{
 "cells": [
  {
   "cell_type": "code",
   "execution_count": null,
   "metadata": {},
   "outputs": [],
   "source": [
    "int(input())\n",
    "map(int, input().split())\n",
    "list(map(int, input().split()))\n",
    "[int(input()) for _ in range(NNN)]\n",
    "[list(map(int, input().split())) for _ in range(HHH)]\n",
    "\n",
    "(input())\n",
    "input().split()\n",
    "list(input().split())\n",
    "[(input()) for _ in range(NNN)]\n",
    "[list(input().split()) for _ in range(HHH)]"
   ]
  },
  {
   "cell_type": "code",
   "execution_count": null,
   "metadata": {},
   "outputs": [],
   "source": [
    "# 1次元配列のコピー\n",
    "B = A[:]\n",
    "\n",
    "# 2次元配列のコピー\n",
    "B=[a[:] for a in A]"
   ]
  },
  {
   "cell_type": "code",
   "execution_count": 19,
   "metadata": {},
   "outputs": [
    {
     "data": {
      "text/plain": [
       "[('a', 'b'), ('a', 'c'), ('b', 'a'), ('b', 'c'), ('c', 'a'), ('c', 'b')]"
      ]
     },
     "execution_count": 19,
     "metadata": {},
     "output_type": "execute_result"
    }
   ],
   "source": [
    "import itertools\n",
    "\n",
    "list(itertools.permutations(\"abc\",2))"
   ]
  },
  {
   "cell_type": "code",
   "execution_count": null,
   "metadata": {},
   "outputs": [],
   "source": [
    "print(\"Yes\" if 条件式 else \"No\")"
   ]
  },
  {
   "cell_type": "code",
   "execution_count": null,
   "metadata": {},
   "outputs": [],
   "source": [
    "[[0]*WWW for _ in range(HHH)]"
   ]
  },
  {
   "cell_type": "code",
   "execution_count": null,
   "metadata": {},
   "outputs": [],
   "source": [
    "x - x//2"
   ]
  },
  {
   "cell_type": "code",
   "execution_count": 1,
   "metadata": {},
   "outputs": [
    {
     "data": {
      "text/plain": [
       "0"
      ]
     },
     "execution_count": 1,
     "metadata": {},
     "output_type": "execute_result"
    }
   ],
   "source": [
    "ord(\"a\") == 97\n",
    "ord(\"z\") == 122\n",
    "\n",
    "ord(\"A\") == 65\n",
    "ord(\"Z\") == 90"
   ]
  },
  {
   "cell_type": "code",
   "execution_count": 2,
   "metadata": {},
   "outputs": [
    {
     "name": "stdout",
     "output_type": "stream",
     "text": [
      "3\n",
      "4\n",
      "4\n",
      "3\n",
      "3\n",
      "3\n"
     ]
    }
   ],
   "source": [
    "import bisect\n",
    "\n",
    "#      0  1  2  3  4   5   6\n",
    "arr = [1, 2, 4, 6, 9, 11, 15]\n",
    "\n",
    "print(bisect.bisect_left(arr, 6))  # 3\n",
    "print(bisect.bisect_right(arr, 6))  # 4\n",
    "print(bisect.bisect(arr, 6))  # 4\n",
    "print(bisect.bisect_left(arr, 5))  # 3\n",
    "print(bisect.bisect_right(arr, 5))  # 3\n",
    "print(bisect.bisect(arr, 5))  # 3"
   ]
  },
  {
   "cell_type": "code",
   "execution_count": 5,
   "metadata": {},
   "outputs": [
    {
     "name": "stdout",
     "output_type": "stream",
     "text": [
      "3\n",
      "6\n",
      "6\n"
     ]
    }
   ],
   "source": [
    "import bisect\n",
    "\n",
    "arr = [1, 1, 2, 5, 5, 5, 8]\n",
    "\n",
    "print(bisect.bisect_left(arr, 5))  # 3\n",
    "print(bisect.bisect_right(arr, 5))  # 6\n",
    "print(bisect.bisect(arr, 5))  # 6"
   ]
  },
  {
   "cell_type": "code",
   "execution_count": 13,
   "metadata": {},
   "outputs": [
    {
     "name": "stdout",
     "output_type": "stream",
     "text": [
      "rating: 1543.3035389430693\n"
     ]
    }
   ],
   "source": [
    "%reset -f\n",
    "\n",
    "# Description: Calculate AHC rating ver.2\n",
    "# Usage: python calc_rating.py <user_name>\n",
    "# Requires: requests\n",
    "# ref) https://img.atcoder.jp/file/AHC_rating_v2.pdf\n",
    "\n",
    "# import argparse\n",
    "import math\n",
    "from datetime import date, datetime\n",
    "import requests\n",
    "\n",
    "\n",
    "def download_json(user_name: str):\n",
    "    url = f\"https://atcoder.jp/users/{user_name}/history/json?contestType=heuristic\"\n",
    "    response = requests.get(url)\n",
    "    response.raise_for_status()\n",
    "\n",
    "    return response.json()\n",
    "\n",
    "\n",
    "def calc_rating(json: list):\n",
    "    Q = []\n",
    "    S = 724.4744301\n",
    "    R = 0.8271973364\n",
    "\n",
    "    for result in json:\n",
    "        if not result[\"IsRated\"]:\n",
    "            continue\n",
    "\n",
    "        end_date = datetime.fromisoformat(result[\"EndTime\"]).date()\n",
    "        days = (date.today() - end_date).days\n",
    "        performance = result[\"Performance\"] + 150 - 100 * days / 365\n",
    "        weight = 1\n",
    "\n",
    "        for i in range(100):\n",
    "            Q.append((performance - S * math.log(i + 1), weight))\n",
    "\n",
    "    if len(Q) == 0:\n",
    "        return 0\n",
    "\n",
    "    Q.sort(reverse=True)\n",
    "    si = 0\n",
    "    rating = 0\n",
    "\n",
    "    for q, weight in Q:\n",
    "        rating += q * (math.pow(R, si) - math.pow(R, si + weight))\n",
    "        si += weight\n",
    "\n",
    "    rating = 400 / (math.exp((400 - rating) / 400)) if rating < 400 else rating\n",
    "\n",
    "    return rating\n",
    "\n",
    "\n",
    "if __name__ == \"__main__\":\n",
    "    # parser = argparse.ArgumentParser()\n",
    "    # parser.add_argument(\"user_name\", type=str, help=\"AtCoder user name\")\n",
    "    # args = parser.parse_args()\n",
    "    # user_name = \"r1317\"\n",
    "    user_name = input()\n",
    "    json = download_json(user_name)\n",
    "    rating = calc_rating(json)\n",
    "    print(f\"rating: {rating}\")\n"
   ]
  },
  {
   "cell_type": "code",
   "execution_count": null,
   "metadata": {},
   "outputs": [],
   "source": [
    "from collections import deque\n",
    "\n",
    "# dequeの初期化\n",
    "dq = deque()\n",
    "\n",
    "# dequeの末尾に要素を追加\n",
    "dq.append(1)\n",
    "dq.append(2)\n",
    "dq.append(3)\n",
    "# dequeの先頭に要素を追加\n",
    "dq.appendleft(0)\n",
    "# dequeの末尾から要素を削除\n",
    "dq.pop()\n",
    "# dequeの先頭から要素を削除\n",
    "dq.popleft()\n",
    "# dequeの要素を全て削除\n",
    "dq.clear()"
   ]
  },
  {
   "cell_type": "code",
   "execution_count": null,
   "metadata": {},
   "outputs": [],
   "source": [
    "class UnionFind:\n",
    "  # n個の頂点がすべて孤立した状態で初期化\n",
    "  def __init__(self, n):\n",
    "    self.parent_list = [-1] * n\n",
    "    self.size_list = [1] * n\n",
    "\n",
    "  # xが属する根付き木の根を返す\n",
    "  def root(self, x):\n",
    "    # xの親が-1ならxが根\n",
    "    if self.parent_list[x] == -1:\n",
    "      return x\n",
    "    # xの親が-1でなければ、再帰的に親をたどって根を探す\n",
    "    self.parent_list[x] = self.root(self.parent_list[x])  # パス圧縮\n",
    "    return self.parent_list[x]\n",
    "  \n",
    "  # xとyが同じ根を持つかどうかを判定\n",
    "  def is_same(self, x, y):\n",
    "    return self.root(x) == self.root(y)\n",
    "  \n",
    "  # xの属する根付き木とyの属する根付き木を併合\n",
    "  def unite(self, x, y):\n",
    "    root_x = self.root(x)\n",
    "    root_y = self.root(y)\n",
    "    \n",
    "    # すでに同じ根を持つ場合は何もしない\n",
    "    if root_x == root_y:\n",
    "      return None\n",
    "    \n",
    "    # 根のサイズを比較して、小さい方を大きい方に結合\n",
    "    if self.size_list[root_x] < self.size_list[root_y]:\n",
    "      root_x, root_y = root_y, root_x  # root_xを常に大きい方にする\n",
    "    self.parent_list[root_y] = root_x  # root_yをroot_xの子にする\n",
    "    self.size_list[root_x] += self.size_list[root_y]  # root_xのサイズにroot_yのサイズを加える\n",
    "    self.size_list[root_y] = 0  # root_yが根ではなくなったのでサイズを0にする。この操作は必要ないが、明示的にサイズを管理するために行う\n",
    "    return None\n",
    "\n",
    "  # xの属する根付き木のサイズを返す\n",
    "  def size(self, x):\n",
    "    return self.size_list[self.root(x)]"
   ]
  },
  {
   "cell_type": "code",
   "execution_count": 22,
   "metadata": {},
   "outputs": [
    {
     "name": "stdout",
     "output_type": "stream",
     "text": [
      "((0, 1), (0, 2), (0, 3), (1, 2), (1, 3))\n",
      "((0, 1), (0, 2), (0, 3), (1, 2), (2, 3))\n",
      "((0, 1), (0, 2), (0, 3), (1, 3), (2, 3))\n",
      "((0, 1), (0, 2), (1, 2), (1, 3), (2, 3))\n",
      "((0, 1), (0, 3), (1, 2), (1, 3), (2, 3))\n",
      "((0, 2), (0, 3), (1, 2), (1, 3), (2, 3))\n"
     ]
    }
   ],
   "source": [
    "import itertools\n",
    "N = 4\n",
    "edges = [(i, j) for i in range(N) for j in range(i + 1, N)]\n",
    "\n",
    "for e in itertools.combinations(edges, 5):\n",
    "  print(e)"
   ]
  },
  {
   "cell_type": "code",
   "execution_count": null,
   "metadata": {},
   "outputs": [],
   "source": [
    "# 等比数列の判定\n",
    "\n",
    "A[i] * A[i + 2] == A[i + 1] * A[i + 1]"
   ]
  },
  {
   "cell_type": "code",
   "execution_count": 49,
   "metadata": {},
   "outputs": [
    {
     "name": "stderr",
     "output_type": "stream",
     "text": [
      "ic| r1-r2 < 10**(-4): True\n",
      "ic| r1-r2 < 10**(-5): True\n",
      "ic| r1-r2 < 10**(-6): True\n",
      "ic| r1-r2 < 10**(-7): True\n",
      "ic| r1-r2 < 10**(-8): True\n",
      "ic| r1-r2 < 10**(-9): True\n",
      "ic| r1: 10000.0, r2: 10000.000002857143\n",
      "ic| r1 - r2: -2.8571430448209867e-06\n",
      "ic| r1-r2 < 10**(-4): True\n",
      "ic| r1-r2 < 10**(-5): True\n",
      "ic| r1-r2 < 10**(-6): True\n",
      "ic| r1-r2 < 10**(-7): True\n",
      "ic| r1-r2 < 10**(-8): True\n",
      "ic| r1-r2 < 10**(-9): True\n",
      "ic| r1: 10000.0, r2: 10000.000002857143\n",
      "ic| r1 - r2: -2.8571430448209867e-06\n",
      "ic| arr[1]*r: 122500700001.0\n",
      "ic| arr[1]*r - arr[2]: 700001.0\n"
     ]
    },
    {
     "name": "stdout",
     "output_type": "stream",
     "text": [
      "------\n"
     ]
    },
    {
     "data": {
      "text/plain": [
       "700001.0"
      ]
     },
     "execution_count": 49,
     "metadata": {},
     "output_type": "execute_result"
    }
   ],
   "source": [
    "%reset -f\n",
    "\n",
    "from icecream import ic\n",
    "import numpy as np\n",
    "\n",
    "r1 = 10**4/1\n",
    "r2 = (35*10**8+1)/(35*10**4)\n",
    "\n",
    "ic(r1-r2 < 10**(-4))\n",
    "ic(r1-r2 < 10**(-5))\n",
    "ic(r1-r2 < 10**(-6))\n",
    "ic(r1-r2 < 10**(-7))\n",
    "ic(r1-r2 < 10**(-8))\n",
    "ic(r1-r2 < 10**(-9))\n",
    "ic(r1, r2)\n",
    "ic(r1 - r2)\n",
    "\n",
    "N = 10**50\n",
    "\n",
    "r1 = (10**4 * N) / (1 * N)\n",
    "r2 = ((35 * 10**8 + 1) * N) / ((35 * 10**4) * N)\n",
    "\n",
    "ic(r1-r2 < 10**(-4))\n",
    "ic(r1-r2 < 10**(-5))\n",
    "ic(r1-r2 < 10**(-6))\n",
    "ic(r1-r2 < 10**(-7))\n",
    "ic(r1-r2 < 10**(-8))\n",
    "ic(r1-r2 < 10**(-9))\n",
    "ic(r1, r2)\n",
    "ic(r1 - r2)\n",
    "\n",
    "print(\"------\")\n",
    "\n",
    "arr = [1, 35*10**4+1, 35**2*10**8]\n",
    "r = arr[1] / arr[0]\n",
    "ic(arr[1]*r)\n",
    "ic(arr[1]*r - arr[2])"
   ]
  }
 ],
 "metadata": {
  "kernelspec": {
   "display_name": ".venv",
   "language": "python",
   "name": "python3"
  },
  "language_info": {
   "codemirror_mode": {
    "name": "ipython",
    "version": 3
   },
   "file_extension": ".py",
   "mimetype": "text/x-python",
   "name": "python",
   "nbconvert_exporter": "python",
   "pygments_lexer": "ipython3",
   "version": "3.12.3"
  }
 },
 "nbformat": 4,
 "nbformat_minor": 2
}
